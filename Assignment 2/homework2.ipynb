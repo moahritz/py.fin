{
 "cells": [
  {
   "cell_type": "markdown",
   "id": "5791cdf7-2eb2-4ebf-9f8c-e2dc1ad31f11",
   "metadata": {},
   "source": [
    "# Homework exercise 2\n",
    "## Deadline: upload to Moodle by 3 December 18:00 h\n",
    "\n",
    "__Suggestion: take this notebook and simply add your code and explanations. Your submission needs to include your code's output (even if the code throws an error).__\n",
    "\n",
    "If you prefer to use .py files, you are expected to also include a PDF containing the output of your code and your explanations. Still, the code needs to be in a form that can be easily run on another computer.\n",
    "\n",
    "If you use any file paths, assign paths to variables at the beginning of your code and use those variables when later referring to the paths.\n",
    "\n",
    "__Name 1:__\n",
    "\n",
    "__Name 2:__\n",
    "\n",
    "__Name 3:__\n",
    "\n",
    "The name of the file that you upload should be named *Homework1_YourLastName_YourStudentID*.\n",
    "\n",
    "Reminder: you are required to attend class on 4 December to earn points for this homework exercise unless you have a valid reason for your absence.\n",
    "\n",
    "You are encouraged to work on this exercise in teams of up to three students. If any part of the questions is unclear, please ask on the Moodle forum."
   ]
  },
  {
   "cell_type": "markdown",
   "id": "2de89b5d-a758-4ccb-aed7-1034b25e2514",
   "metadata": {},
   "source": [
    "#### Options Pricing via Monte Carlo Simulations and Analytical Methods\n",
    "\n",
    "In this problem set, you will be asked to implement analytical as well as simulation-based methods for plain vanilla options —standardized contracts with no additional features—, as well as simulation-based methods for some more complex exotic options.\n",
    "\n",
    "You may skip the next section if you are already familiar with the topic."
   ]
  },
  {
   "cell_type": "markdown",
   "id": "84e47d42-fbcf-4322-9fdd-144921382111",
   "metadata": {},
   "source": [
    "#### Introduction to pricing plain vanilla options\n",
    "\n",
    "Among the various types of options, plain vanilla European options are the most fundamental. A European option is characterized by the right, but not the obligation, to buy (in the case of a call option) or sell (in the case of a put option) an underlying asset at a predetermined strike price on a specific expiration date.\n",
    "\n",
    "##### Payoff Functions\n",
    "\n",
    "The payoff function for a European call option is defined as:\n",
    "\n",
    "$\\text{Payoff}_{\\text{call}} = \\max(S_T - K, 0)$\n",
    "    \n",
    "where $S_T$ is the price of the underlying asset at maturity, and $K$ is the strike price. This means that if the asset price at maturity is above the strike price, the holder can purchase the asset at the strike price and realize a gain equal to the difference. If the asset price is below the strike price, the option expires worthless, and the loss is limited to the premium paid for the option.\n",
    "\n",
    "Conversely, the payoff function for a European put option is: \n",
    "\n",
    "$\\text{Payoff}_{\\text{put}} = \\max(K - S_T, 0)$\n",
    "\n",
    "This reflects the holder's right to sell the asset at the strike price. The put option is valuable if the asset price falls below the strike price, allowing the holder to sell the asset at a higher price than the market offers.\n",
    "\n",
    "##### The Black-Scholes Formula\n",
    "\n",
    "For a non-dividend-paying asset, the Black-Scholes price of a European call option is given by:\n",
    "\n",
    "$C(S, t) = S N(d_1) - Ke^{-rt} N(d_2)$\n",
    "\n",
    "and the price of a European put option is given by:\n",
    "\n",
    "$P(S, t) = Ke^{-rt} N(-d_2) - S N(-d_1)$\n",
    "\n",
    "where:\n",
    "\n",
    "* $C(S,t)$ and $P(S,t)$ are the call and put option prices, respectively.\n",
    "* $S$ is the current price of the underlying asset.\n",
    "* $K$ is the strike price.\n",
    "* $r$ is the risk-free interest rate.\n",
    "* $t$ is the time to expiration.\n",
    "* $N(⋅)$ is the cumulative distribution function of the standard normal distribution.\n",
    "* $d_1=\\frac{ln(S/K)+(r+\\sigma^2/2)t}{\\sigma\\sqrt{t}}$ and $d_2=d_1-\\sigma\\sqrt{t}$, where $\\sigma$ is the volatility of the asset's returns.\n"
   ]
  },
  {
   "cell_type": "markdown",
   "id": "0651722f-b294-49b2-978f-f280165698bd",
   "metadata": {},
   "source": [
    "#### Options pricing via simulations\n",
    "\n",
    "Pricing options via Monte Carlo simulations consists of\n",
    "\n",
    "* randomly drawing stock price paths based on an assumed distribution\n",
    "* computing the option payoff for each path and discounting the payoff to the present\n",
    "* averaging those discounted values\n",
    "\n",
    "It is assumed that the stock price follows a log-normal distribution, i.e., logarithmic returns follow a normal distribution. The mean return used in the simulations is the risk-free rate, the standard deviation is the assumed volatility (called \"implied volatility\", as this volatility is implied by the option price)."
   ]
  },
  {
   "cell_type": "markdown",
   "id": "4cfdaaa7-8112-4883-a046-3dc49c369ccd",
   "metadata": {},
   "source": [
    "1. Implement the Black-Scholes formula for both calls and puts. Plot prices for varying strike prices, volatility, and time to maturity in three-dimensional graphs (each time holding one of these dimensions and the stock price fixed). "
   ]
  },
  {
   "cell_type": "code",
   "execution_count": null,
   "id": "307630a8-797f-4423-b87f-477024b49439",
   "metadata": {},
   "outputs": [],
   "source": []
  },
  {
   "cell_type": "markdown",
   "id": "d52e4e6a-acf9-4591-a099-8b5e94365059",
   "metadata": {},
   "source": [
    "2. Implement a simulator of stock prices. It needs to accept at least the following inputs:\n",
    "\n",
    "* risk-free rate\n",
    "* volatility\n",
    "* current price\n",
    "* unit of time for simulation (minutes, hours, days)\n",
    "* time to maturity (measured in days)\n",
    "* number of price paths to simulate\n",
    "\n",
    "Use the simulator to price plain vanilla options. For parameter values of your choice, make a plot showing how the difference between prices obtained from the simulation and from the analytical formula changes with the number of simulated paths."
   ]
  },
  {
   "cell_type": "code",
   "execution_count": null,
   "id": "b4487407-763d-43f8-8c62-fdbd93fe06c9",
   "metadata": {},
   "outputs": [],
   "source": []
  },
  {
   "cell_type": "markdown",
   "id": "1b193ef1-32ed-4eab-8840-4d463961165f",
   "metadata": {},
   "source": [
    "3. You will now turn to pricing options that cannot be priced analytically. In this task, you are asked to price Asian options. The payoff of Asian options depends on the average price of the underlying asset over a certain period.\n",
    "The payoff of an Asian Call Option is\n",
    "\n",
    "$C_{\\text{Asian}}(T) = \\max\\left(\\bar{S}(T) - K, 0\\right)$\n",
    "\n",
    "and that of an Asian Put Option\n",
    "\n",
    "$P_{\\text{Asian}}(T) = \\max\\left(K - \\bar{S}(T), 0\\right)$\n",
    "\n",
    "where $\\bar{S}(T)$ represents the average price of the underlying asset over a set of days. For simplicity, we will focus on the type of Asian option that considers the average over the last $D$ days until maturity (so-called Asian-Out options). While both arithmetic and geometric averages can be used in Asian options, we will consider only the arithmetic average here.\n",
    "\n",
    "Determine the prices of Asian options using Monte Carlo simulations. Your implementation should allow for variation in the number of days $D$ used for the computation of $\\bar{S}(T)$, which is then defined as the average over days $T-D-1$ to $T$. Make plots comparing the prices of plain vanilla and Asian options with otherwise identical parameter values."
   ]
  },
  {
   "cell_type": "code",
   "execution_count": null,
   "id": "db9bdc0f-3025-4da1-8cc0-15911b551263",
   "metadata": {},
   "outputs": [],
   "source": []
  },
  {
   "cell_type": "markdown",
   "id": "57e855e8-0c71-4d3a-ad4f-5b801b76f802",
   "metadata": {},
   "source": [
    "4. We will finally consider Barrier options. Barrier options are a type of exotic option where the payoff depends on whether the underlying asset's price reaches a certain level, known as the barrier, during the option's life.\n",
    "\n",
    "There are two main types of barrier options: knock-in and knock-out. A knock-in option becomes active only if the price of the underlying asset crosses a certain level. By contrast, a knock-out option expires worthless if the price of the underlying asset ever crosses a certain level. The options can further be distinguished by whether the price threshold is crossed from below (Up-and-out, Up-and-in) or above (Down-and-out, Down-and-in). Each of these four types of options exist for both calls and puts, thus yielding eight different payoff functions. At maturity the payoff of a barrier option, if it is active, is identical to that of an otherwise similar plain vanilla call or put option.\n",
    "\n",
    "Determine the prices of barrier options using Monte Carlo simulations. Make plots comparing the prices of plain vanilla and Barrier options with otherwise identical parameter values, and show how the difference in prices depends on the distance of the present stock price from the barrier."
   ]
  },
  {
   "cell_type": "code",
   "execution_count": null,
   "id": "70466b30-7573-4f37-a869-3e897389b87a",
   "metadata": {},
   "outputs": [],
   "source": []
  }
 ],
 "metadata": {
  "kernelspec": {
   "display_name": "Python 3 (ipykernel)",
   "language": "python",
   "name": "python3"
  },
  "language_info": {
   "codemirror_mode": {
    "name": "ipython",
    "version": 3
   },
   "file_extension": ".py",
   "mimetype": "text/x-python",
   "name": "python",
   "nbconvert_exporter": "python",
   "pygments_lexer": "ipython3",
   "version": "3.10.9"
  }
 },
 "nbformat": 4,
 "nbformat_minor": 5
}
